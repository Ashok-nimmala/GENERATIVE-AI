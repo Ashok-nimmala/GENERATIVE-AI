{
  "nbformat": 4,
  "nbformat_minor": 0,
  "metadata": {
    "colab": {
      "provenance": [],
      "authorship_tag": "ABX9TyM5tZQ0+w33U2yaTQtAumSj",
      "include_colab_link": true
    },
    "kernelspec": {
      "name": "python3",
      "display_name": "Python 3"
    },
    "language_info": {
      "name": "python"
    }
  },
  "cells": [
    {
      "cell_type": "markdown",
      "metadata": {
        "id": "view-in-github",
        "colab_type": "text"
      },
      "source": [
        "<a href=\"https://colab.research.google.com/github/Ashok-nimmala/GENERATIVE-AI/blob/main/LAB_5_3.ipynb\" target=\"_parent\"><img src=\"https://colab.research.google.com/assets/colab-badge.svg\" alt=\"Open In Colab\"/></a>"
      ]
    },
    {
      "cell_type": "code",
      "execution_count": 1,
      "metadata": {
        "colab": {
          "base_uri": "https://localhost:8080/"
        },
        "id": "aWedpsRlPzxo",
        "outputId": "95e08735-89de-4b64-d43b-20dc39911ed0"
      },
      "outputs": [
        {
          "output_type": "stream",
          "name": "stdout",
          "text": [
            "Epoch 0, MSE: 3.7560722426296205\n",
            "Epoch 1000, MSE: 3.115440164350701e-05\n",
            "Epoch 2000, MSE: 1.783737149918585e-05\n",
            "Epoch 3000, MSE: 1.6218090776225996e-05\n",
            "Epoch 4000, MSE: 1.562592996060866e-05\n",
            "Epoch 5000, MSE: 1.5169525928277401e-05\n",
            "Epoch 6000, MSE: 1.4742788017035783e-05\n",
            "Epoch 7000, MSE: 1.4331771036987623e-05\n",
            "Epoch 8000, MSE: 1.3934455251997888e-05\n",
            "Epoch 9000, MSE: 1.3550357127014827e-05\n",
            "Training MSE: 1.3179161317306676e-05\n",
            "Test MSE: 2.1603848964990236e-05\n",
            "Enter values for x1 and x2: 4 5\n",
            "Predicted output: 0.534468431597818\n"
          ]
        }
      ],
      "source": [
        "import numpy as np\n",
        "\n",
        "def sigmoid(x):\n",
        "    return 1 / (1 + np.exp(-x))\n",
        "\n",
        "def sigmoid_derivative(x):\n",
        "    return x * (1 - x)\n",
        "\n",
        "def mean_squared_error(y_true, y_pred):\n",
        "    return np.mean((y_true - y_pred) ** 2)\n",
        "\n",
        "X_train = np.array([[1, 2], [2, 3], [5,6], [6, 7], [7, 8], [8, 9]])\n",
        "y_train = np.array([[0.4140], [0.4611], [0.5501], [0.5656], [0.5765], [0.5840]])\n",
        "\n",
        "X_test = np.array([[3, 4], [4, 5]])\n",
        "y_test = np.array([[0.4992], [0.5285]])\n",
        "\n",
        "input_size = 2\n",
        "hidden_size = 3\n",
        "output_size = 1\n",
        "learning_rate = 0.1\n",
        "epochs = 10000\n",
        "\n",
        "np.random.seed(42)\n",
        "weights_input_hidden = np.random.rand(input_size, hidden_size)\n",
        "bias_hidden = np.random.rand(hidden_size)\n",
        "weights_hidden_output = np.random.rand(hidden_size, output_size)\n",
        "bias_output = np.random.rand(output_size)\n",
        "\n",
        "for epoch in range(epochs):\n",
        "    hidden_layer_input = np.dot(X_train, weights_input_hidden) + bias_hidden\n",
        "    hidden_layer_output = sigmoid(hidden_layer_input)\n",
        "    output_layer_input = np.dot(hidden_layer_output, weights_hidden_output) + bias_output\n",
        "    y_pred = output_layer_input\n",
        "\n",
        "    error = y_train - y_pred\n",
        "\n",
        "    d_output = error\n",
        "    d_hidden_layer = d_output.dot(weights_hidden_output.T) * sigmoid_derivative(hidden_layer_output)\n",
        "\n",
        "    weights_hidden_output += hidden_layer_output.T.dot(d_output) * learning_rate\n",
        "    bias_output += np.sum(d_output, axis=0) * learning_rate\n",
        "    weights_input_hidden += X_train.T.dot(d_hidden_layer) * learning_rate\n",
        "    bias_hidden += np.sum(d_hidden_layer, axis=0) * learning_rate\n",
        "\n",
        "    if epoch % 1000 == 0:\n",
        "        print(f\"Epoch {epoch}, MSE: {mean_squared_error(y_train, y_pred)}\")\n",
        "\n",
        "y_train_pred = np.dot(sigmoid(np.dot(X_train, weights_input_hidden) + bias_hidden), weights_hidden_output) + bias_output\n",
        "y_test_pred = np.dot(sigmoid(np.dot(X_test, weights_input_hidden) + bias_hidden), weights_hidden_output) + bias_output\n",
        "\n",
        "print(\"Training MSE:\", mean_squared_error(y_train, y_train_pred))\n",
        "print(\"Test MSE:\", mean_squared_error(y_test, y_test_pred))\n",
        "\n",
        "x1, x2 = map(float, input(\"Enter values for x1 and x2: \").split())\n",
        "user_input = np.array([[x1, x2]])\n",
        "hidden_layer_input = np.dot(user_input, weights_input_hidden) + bias_hidden\n",
        "hidden_layer_output = sigmoid(hidden_layer_input)\n",
        "output_layer_input = np.dot(hidden_layer_output, weights_hidden_output) + bias_output\n",
        "print(\"Predicted output:\", output_layer_input[0][0])"
      ]
    }
  ]
}